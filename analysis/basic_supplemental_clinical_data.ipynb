{
 "cells": [
  {
   "cell_type": "markdown",
   "metadata": {},
   "source": [
    "# Imports"
   ]
  },
  {
   "cell_type": "code",
   "execution_count": 1,
   "metadata": {},
   "outputs": [],
   "source": [
    "import numpy as np\n",
    "import pandas as pd\n",
    "import matplotlib.pyplot as plt\n",
    "import seaborn as sns"
   ]
  },
  {
   "cell_type": "markdown",
   "metadata": {},
   "source": [
    "# Load data"
   ]
  },
  {
   "cell_type": "code",
   "execution_count": 2,
   "metadata": {},
   "outputs": [
    {
     "data": {
      "text/html": [
       "<div>\n",
       "<style scoped>\n",
       "    .dataframe tbody tr th:only-of-type {\n",
       "        vertical-align: middle;\n",
       "    }\n",
       "\n",
       "    .dataframe tbody tr th {\n",
       "        vertical-align: top;\n",
       "    }\n",
       "\n",
       "    .dataframe thead th {\n",
       "        text-align: right;\n",
       "    }\n",
       "</style>\n",
       "<table border=\"1\" class=\"dataframe\">\n",
       "  <thead>\n",
       "    <tr style=\"text-align: right;\">\n",
       "      <th></th>\n",
       "      <th>visit_id</th>\n",
       "      <th>patient_id</th>\n",
       "      <th>visit_month</th>\n",
       "      <th>updrs_1</th>\n",
       "      <th>updrs_2</th>\n",
       "      <th>updrs_3</th>\n",
       "      <th>updrs_4</th>\n",
       "      <th>upd23b_clinical_state_on_medication</th>\n",
       "    </tr>\n",
       "  </thead>\n",
       "  <tbody>\n",
       "    <tr>\n",
       "      <th>0</th>\n",
       "      <td>35_0</td>\n",
       "      <td>35</td>\n",
       "      <td>0</td>\n",
       "      <td>5.0</td>\n",
       "      <td>3.0</td>\n",
       "      <td>16.0</td>\n",
       "      <td>0.0</td>\n",
       "      <td>NaN</td>\n",
       "    </tr>\n",
       "    <tr>\n",
       "      <th>1</th>\n",
       "      <td>35_36</td>\n",
       "      <td>35</td>\n",
       "      <td>36</td>\n",
       "      <td>6.0</td>\n",
       "      <td>4.0</td>\n",
       "      <td>20.0</td>\n",
       "      <td>0.0</td>\n",
       "      <td>NaN</td>\n",
       "    </tr>\n",
       "    <tr>\n",
       "      <th>2</th>\n",
       "      <td>75_0</td>\n",
       "      <td>75</td>\n",
       "      <td>0</td>\n",
       "      <td>4.0</td>\n",
       "      <td>6.0</td>\n",
       "      <td>26.0</td>\n",
       "      <td>0.0</td>\n",
       "      <td>NaN</td>\n",
       "    </tr>\n",
       "    <tr>\n",
       "      <th>3</th>\n",
       "      <td>75_36</td>\n",
       "      <td>75</td>\n",
       "      <td>36</td>\n",
       "      <td>1.0</td>\n",
       "      <td>8.0</td>\n",
       "      <td>38.0</td>\n",
       "      <td>0.0</td>\n",
       "      <td>On</td>\n",
       "    </tr>\n",
       "    <tr>\n",
       "      <th>4</th>\n",
       "      <td>155_0</td>\n",
       "      <td>155</td>\n",
       "      <td>0</td>\n",
       "      <td>NaN</td>\n",
       "      <td>NaN</td>\n",
       "      <td>0.0</td>\n",
       "      <td>NaN</td>\n",
       "      <td>NaN</td>\n",
       "    </tr>\n",
       "    <tr>\n",
       "      <th>...</th>\n",
       "      <td>...</td>\n",
       "      <td>...</td>\n",
       "      <td>...</td>\n",
       "      <td>...</td>\n",
       "      <td>...</td>\n",
       "      <td>...</td>\n",
       "      <td>...</td>\n",
       "      <td>...</td>\n",
       "    </tr>\n",
       "    <tr>\n",
       "      <th>2218</th>\n",
       "      <td>65382_0</td>\n",
       "      <td>65382</td>\n",
       "      <td>0</td>\n",
       "      <td>NaN</td>\n",
       "      <td>NaN</td>\n",
       "      <td>0.0</td>\n",
       "      <td>NaN</td>\n",
       "      <td>NaN</td>\n",
       "    </tr>\n",
       "    <tr>\n",
       "      <th>2219</th>\n",
       "      <td>65405_0</td>\n",
       "      <td>65405</td>\n",
       "      <td>0</td>\n",
       "      <td>5.0</td>\n",
       "      <td>16.0</td>\n",
       "      <td>31.0</td>\n",
       "      <td>0.0</td>\n",
       "      <td>NaN</td>\n",
       "    </tr>\n",
       "    <tr>\n",
       "      <th>2220</th>\n",
       "      <td>65405_5</td>\n",
       "      <td>65405</td>\n",
       "      <td>5</td>\n",
       "      <td>NaN</td>\n",
       "      <td>NaN</td>\n",
       "      <td>57.0</td>\n",
       "      <td>NaN</td>\n",
       "      <td>NaN</td>\n",
       "    </tr>\n",
       "    <tr>\n",
       "      <th>2221</th>\n",
       "      <td>65530_0</td>\n",
       "      <td>65530</td>\n",
       "      <td>0</td>\n",
       "      <td>10.0</td>\n",
       "      <td>6.0</td>\n",
       "      <td>24.0</td>\n",
       "      <td>0.0</td>\n",
       "      <td>NaN</td>\n",
       "    </tr>\n",
       "    <tr>\n",
       "      <th>2222</th>\n",
       "      <td>65530_36</td>\n",
       "      <td>65530</td>\n",
       "      <td>36</td>\n",
       "      <td>8.0</td>\n",
       "      <td>4.0</td>\n",
       "      <td>15.0</td>\n",
       "      <td>4.0</td>\n",
       "      <td>On</td>\n",
       "    </tr>\n",
       "  </tbody>\n",
       "</table>\n",
       "<p>2223 rows × 8 columns</p>\n",
       "</div>"
      ],
      "text/plain": [
       "      visit_id  patient_id  visit_month  updrs_1  updrs_2  updrs_3  updrs_4  \\\n",
       "0         35_0          35            0      5.0      3.0     16.0      0.0   \n",
       "1        35_36          35           36      6.0      4.0     20.0      0.0   \n",
       "2         75_0          75            0      4.0      6.0     26.0      0.0   \n",
       "3        75_36          75           36      1.0      8.0     38.0      0.0   \n",
       "4        155_0         155            0      NaN      NaN      0.0      NaN   \n",
       "...        ...         ...          ...      ...      ...      ...      ...   \n",
       "2218   65382_0       65382            0      NaN      NaN      0.0      NaN   \n",
       "2219   65405_0       65405            0      5.0     16.0     31.0      0.0   \n",
       "2220   65405_5       65405            5      NaN      NaN     57.0      NaN   \n",
       "2221   65530_0       65530            0     10.0      6.0     24.0      0.0   \n",
       "2222  65530_36       65530           36      8.0      4.0     15.0      4.0   \n",
       "\n",
       "     upd23b_clinical_state_on_medication  \n",
       "0                                    NaN  \n",
       "1                                    NaN  \n",
       "2                                    NaN  \n",
       "3                                     On  \n",
       "4                                    NaN  \n",
       "...                                  ...  \n",
       "2218                                 NaN  \n",
       "2219                                 NaN  \n",
       "2220                                 NaN  \n",
       "2221                                 NaN  \n",
       "2222                                  On  \n",
       "\n",
       "[2223 rows x 8 columns]"
      ]
     },
     "execution_count": 2,
     "metadata": {},
     "output_type": "execute_result"
    }
   ],
   "source": [
    "data = pd.read_csv('../data/raw/supplemental_clinical_data.csv')\n",
    "data"
   ]
  },
  {
   "cell_type": "markdown",
   "metadata": {},
   "source": [
    "# Basic analysis"
   ]
  },
  {
   "cell_type": "code",
   "execution_count": 3,
   "metadata": {},
   "outputs": [
    {
     "name": "stdout",
     "output_type": "stream",
     "text": [
      "<class 'pandas.core.frame.DataFrame'>\n",
      "RangeIndex: 2223 entries, 0 to 2222\n",
      "Data columns (total 8 columns):\n",
      " #   Column                               Non-Null Count  Dtype  \n",
      "---  ------                               --------------  -----  \n",
      " 0   visit_id                             2223 non-null   object \n",
      " 1   patient_id                           2223 non-null   int64  \n",
      " 2   visit_month                          2223 non-null   int64  \n",
      " 3   updrs_1                              2010 non-null   float64\n",
      " 4   updrs_2                              2009 non-null   float64\n",
      " 5   updrs_3                              2218 non-null   float64\n",
      " 6   updrs_4                              1295 non-null   float64\n",
      " 7   upd23b_clinical_state_on_medication  1122 non-null   object \n",
      "dtypes: float64(4), int64(2), object(2)\n",
      "memory usage: 139.1+ KB\n"
     ]
    }
   ],
   "source": [
    "data.info()"
   ]
  },
  {
   "cell_type": "code",
   "execution_count": 4,
   "metadata": {},
   "outputs": [
    {
     "data": {
      "text/plain": [
       "On     1093\n",
       "Off      29\n",
       "Name: upd23b_clinical_state_on_medication, dtype: int64"
      ]
     },
     "execution_count": 4,
     "metadata": {},
     "output_type": "execute_result"
    }
   ],
   "source": [
    "data.upd23b_clinical_state_on_medication.value_counts()"
   ]
  },
  {
   "cell_type": "code",
   "execution_count": 5,
   "metadata": {},
   "outputs": [
    {
     "data": {
      "text/plain": [
       "0     771\n",
       "36    258\n",
       "6     248\n",
       "12    235\n",
       "30    223\n",
       "24    194\n",
       "18    176\n",
       "5     118\n",
       "Name: visit_month, dtype: int64"
      ]
     },
     "execution_count": 5,
     "metadata": {},
     "output_type": "execute_result"
    }
   ],
   "source": [
    "data.visit_month.value_counts()"
   ]
  },
  {
   "cell_type": "code",
   "execution_count": 15,
   "metadata": {},
   "outputs": [
    {
     "data": {
      "image/png": "[encoded data removed]",
      "text/plain": [
       "<Figure size 720x360 with 1 Axes>"
      ]
     },
     "metadata": {
      "needs_background": "light"
     },
     "output_type": "display_data"
    }
   ],
   "source": [
    "fig, ax = plt.subplots(1,figsize=(10,5))\n",
    "ax.hist(data.visit_month,bins = np.arange(max(data.visit_month)+1))\n",
    "ax.set_title('Counts of visit months in supplemental clinical data',fontsize=18)\n",
    "ax.set_xticks(np.arange(max(data.visit_month)+1))\n",
    "ax.set_xlabel('Visit month',fontsize=16)\n",
    "ax.set_ylabel('Counts',fontsize=16)\n",
    "ax.grid(axis='y')"
   ]
  },
  {
   "cell_type": "code",
   "execution_count": 39,
   "metadata": {},
   "outputs": [
    {
     "data": {
      "text/html": [
       "<div>\n",
       "<style scoped>\n",
       "    .dataframe tbody tr th:only-of-type {\n",
       "        vertical-align: middle;\n",
       "    }\n",
       "\n",
       "    .dataframe tbody tr th {\n",
       "        vertical-align: top;\n",
       "    }\n",
       "\n",
       "    .dataframe thead th {\n",
       "        text-align: right;\n",
       "    }\n",
       "</style>\n",
       "<table border=\"1\" class=\"dataframe\">\n",
       "  <thead>\n",
       "    <tr style=\"text-align: right;\">\n",
       "      <th></th>\n",
       "      <th>patient_id</th>\n",
       "      <th>updrs_1</th>\n",
       "      <th>updrs_2</th>\n",
       "      <th>updrs_3</th>\n",
       "      <th>updrs_4</th>\n",
       "    </tr>\n",
       "    <tr>\n",
       "      <th>visit_month</th>\n",
       "      <th></th>\n",
       "      <th></th>\n",
       "      <th></th>\n",
       "      <th></th>\n",
       "      <th></th>\n",
       "    </tr>\n",
       "  </thead>\n",
       "  <tbody>\n",
       "    <tr>\n",
       "      <th>0</th>\n",
       "      <td>32143.075227</td>\n",
       "      <td>5.781065</td>\n",
       "      <td>6.210059</td>\n",
       "      <td>19.782835</td>\n",
       "      <td>1.044503</td>\n",
       "    </tr>\n",
       "    <tr>\n",
       "      <th>5</th>\n",
       "      <td>30682.983051</td>\n",
       "      <td>NaN</td>\n",
       "      <td>NaN</td>\n",
       "      <td>38.737288</td>\n",
       "      <td>4.400000</td>\n",
       "    </tr>\n",
       "    <tr>\n",
       "      <th>6</th>\n",
       "      <td>33341.991935</td>\n",
       "      <td>5.032258</td>\n",
       "      <td>6.443548</td>\n",
       "      <td>23.591093</td>\n",
       "      <td>0.457627</td>\n",
       "    </tr>\n",
       "    <tr>\n",
       "      <th>12</th>\n",
       "      <td>33263.306383</td>\n",
       "      <td>5.234043</td>\n",
       "      <td>6.225532</td>\n",
       "      <td>23.378723</td>\n",
       "      <td>0.579365</td>\n",
       "    </tr>\n",
       "    <tr>\n",
       "      <th>18</th>\n",
       "      <td>33179.596591</td>\n",
       "      <td>5.329545</td>\n",
       "      <td>6.681818</td>\n",
       "      <td>24.267045</td>\n",
       "      <td>0.629032</td>\n",
       "    </tr>\n",
       "    <tr>\n",
       "      <th>24</th>\n",
       "      <td>32532.917526</td>\n",
       "      <td>5.845361</td>\n",
       "      <td>6.773196</td>\n",
       "      <td>24.077320</td>\n",
       "      <td>0.913907</td>\n",
       "    </tr>\n",
       "    <tr>\n",
       "      <th>30</th>\n",
       "      <td>33332.834081</td>\n",
       "      <td>5.582960</td>\n",
       "      <td>6.572072</td>\n",
       "      <td>23.382883</td>\n",
       "      <td>0.861111</td>\n",
       "    </tr>\n",
       "    <tr>\n",
       "      <th>36</th>\n",
       "      <td>31495.422481</td>\n",
       "      <td>6.674419</td>\n",
       "      <td>7.232558</td>\n",
       "      <td>21.766537</td>\n",
       "      <td>0.589147</td>\n",
       "    </tr>\n",
       "  </tbody>\n",
       "</table>\n",
       "</div>"
      ],
      "text/plain": [
       "               patient_id   updrs_1   updrs_2    updrs_3   updrs_4\n",
       "visit_month                                                       \n",
       "0            32143.075227  5.781065  6.210059  19.782835  1.044503\n",
       "5            30682.983051       NaN       NaN  38.737288  4.400000\n",
       "6            33341.991935  5.032258  6.443548  23.591093  0.457627\n",
       "12           33263.306383  5.234043  6.225532  23.378723  0.579365\n",
       "18           33179.596591  5.329545  6.681818  24.267045  0.629032\n",
       "24           32532.917526  5.845361  6.773196  24.077320  0.913907\n",
       "30           33332.834081  5.582960  6.572072  23.382883  0.861111\n",
       "36           31495.422481  6.674419  7.232558  21.766537  0.589147"
      ]
     },
     "execution_count": 39,
     "metadata": {},
     "output_type": "execute_result"
    }
   ],
   "source": [
    "updrs_means = data.groupby('visit_month').mean()\n",
    "updrs_means"
   ]
  },
  {
   "cell_type": "code",
   "execution_count": 40,
   "metadata": {},
   "outputs": [
    {
     "name": "stdout",
     "output_type": "stream",
     "text": [
      "<class 'pandas.core.frame.DataFrame'>\n",
      "Int64Index: 118 entries, 12 to 2220\n",
      "Data columns (total 2 columns):\n",
      " #   Column   Non-Null Count  Dtype  \n",
      "---  ------   --------------  -----  \n",
      " 0   updrs_1  0 non-null      float64\n",
      " 1   updrs_2  0 non-null      float64\n",
      "dtypes: float64(2)\n",
      "memory usage: 2.8 KB\n"
     ]
    }
   ],
   "source": [
    "data.loc[data.visit_month == 5, ['updrs_1', 'updrs_2']].info()"
   ]
  },
  {
   "cell_type": "code",
   "execution_count": 41,
   "metadata": {},
   "outputs": [
    {
     "data": {
      "text/html": [
       "<div>\n",
       "<style scoped>\n",
       "    .dataframe tbody tr th:only-of-type {\n",
       "        vertical-align: middle;\n",
       "    }\n",
       "\n",
       "    .dataframe tbody tr th {\n",
       "        vertical-align: top;\n",
       "    }\n",
       "\n",
       "    .dataframe thead th {\n",
       "        text-align: right;\n",
       "    }\n",
       "</style>\n",
       "<table border=\"1\" class=\"dataframe\">\n",
       "  <thead>\n",
       "    <tr style=\"text-align: right;\">\n",
       "      <th></th>\n",
       "      <th>patient_id</th>\n",
       "      <th>updrs_1</th>\n",
       "      <th>updrs_2</th>\n",
       "      <th>updrs_3</th>\n",
       "      <th>updrs_4</th>\n",
       "    </tr>\n",
       "    <tr>\n",
       "      <th>visit_month</th>\n",
       "      <th></th>\n",
       "      <th></th>\n",
       "      <th></th>\n",
       "      <th></th>\n",
       "      <th></th>\n",
       "    </tr>\n",
       "  </thead>\n",
       "  <tbody>\n",
       "    <tr>\n",
       "      <th>0</th>\n",
       "      <td>18753.879844</td>\n",
       "      <td>4.391507</td>\n",
       "      <td>5.152802</td>\n",
       "      <td>12.150571</td>\n",
       "      <td>2.212019</td>\n",
       "    </tr>\n",
       "    <tr>\n",
       "      <th>5</th>\n",
       "      <td>18018.396157</td>\n",
       "      <td>NaN</td>\n",
       "      <td>NaN</td>\n",
       "      <td>13.580673</td>\n",
       "      <td>2.720294</td>\n",
       "    </tr>\n",
       "    <tr>\n",
       "      <th>6</th>\n",
       "      <td>18542.148672</td>\n",
       "      <td>4.031125</td>\n",
       "      <td>4.581785</td>\n",
       "      <td>10.629324</td>\n",
       "      <td>1.119144</td>\n",
       "    </tr>\n",
       "    <tr>\n",
       "      <th>12</th>\n",
       "      <td>18593.250469</td>\n",
       "      <td>4.147972</td>\n",
       "      <td>4.539027</td>\n",
       "      <td>11.143066</td>\n",
       "      <td>1.364423</td>\n",
       "    </tr>\n",
       "    <tr>\n",
       "      <th>18</th>\n",
       "      <td>18093.077616</td>\n",
       "      <td>4.157531</td>\n",
       "      <td>4.784607</td>\n",
       "      <td>11.438893</td>\n",
       "      <td>1.445305</td>\n",
       "    </tr>\n",
       "    <tr>\n",
       "      <th>24</th>\n",
       "      <td>18438.534108</td>\n",
       "      <td>4.574859</td>\n",
       "      <td>5.050020</td>\n",
       "      <td>11.218009</td>\n",
       "      <td>1.628662</td>\n",
       "    </tr>\n",
       "    <tr>\n",
       "      <th>30</th>\n",
       "      <td>18620.517925</td>\n",
       "      <td>4.328938</td>\n",
       "      <td>5.067127</td>\n",
       "      <td>10.921865</td>\n",
       "      <td>1.732902</td>\n",
       "    </tr>\n",
       "    <tr>\n",
       "      <th>36</th>\n",
       "      <td>19331.285286</td>\n",
       "      <td>4.663231</td>\n",
       "      <td>5.142350</td>\n",
       "      <td>11.550837</td>\n",
       "      <td>1.726932</td>\n",
       "    </tr>\n",
       "  </tbody>\n",
       "</table>\n",
       "</div>"
      ],
      "text/plain": [
       "               patient_id   updrs_1   updrs_2    updrs_3   updrs_4\n",
       "visit_month                                                       \n",
       "0            18753.879844  4.391507  5.152802  12.150571  2.212019\n",
       "5            18018.396157       NaN       NaN  13.580673  2.720294\n",
       "6            18542.148672  4.031125  4.581785  10.629324  1.119144\n",
       "12           18593.250469  4.147972  4.539027  11.143066  1.364423\n",
       "18           18093.077616  4.157531  4.784607  11.438893  1.445305\n",
       "24           18438.534108  4.574859  5.050020  11.218009  1.628662\n",
       "30           18620.517925  4.328938  5.067127  10.921865  1.732902\n",
       "36           19331.285286  4.663231  5.142350  11.550837  1.726932"
      ]
     },
     "execution_count": 41,
     "metadata": {},
     "output_type": "execute_result"
    }
   ],
   "source": [
    "updrs_stds = data.groupby('visit_month').std()\n",
    "updrs_stds"
   ]
  },
  {
   "cell_type": "code",
   "execution_count": 42,
   "metadata": {},
   "outputs": [
    {
     "name": "stdout",
     "output_type": "stream",
     "text": [
      "               patient_id   updrs_1   updrs_2    updrs_3   updrs_4\n",
      "visit_month                                                       \n",
      "0            32143.075227  5.781065  6.210059  19.782835  1.044503\n",
      "6            33341.991935  5.032258  6.443548  23.591093  0.457627\n",
      "12           33263.306383  5.234043  6.225532  23.378723  0.579365\n",
      "18           33179.596591  5.329545  6.681818  24.267045  0.629032\n",
      "24           32532.917526  5.845361  6.773196  24.077320  0.913907\n",
      "30           33332.834081  5.582960  6.572072  23.382883  0.861111\n",
      "36           31495.422481  6.674419  7.232558  21.766537  0.589147\n",
      "               patient_id   updrs_1   updrs_2    updrs_3   updrs_4\n",
      "visit_month                                                       \n",
      "0            18753.879844  4.391507  5.152802  12.150571  2.212019\n",
      "6            18542.148672  4.031125  4.581785  10.629324  1.119144\n",
      "12           18593.250469  4.147972  4.539027  11.143066  1.364423\n",
      "18           18093.077616  4.157531  4.784607  11.438893  1.445305\n",
      "24           18438.534108  4.574859  5.050020  11.218009  1.628662\n",
      "30           18620.517925  4.328938  5.067127  10.921865  1.732902\n",
      "36           19331.285286  4.663231  5.142350  11.550837  1.726932\n"
     ]
    }
   ],
   "source": [
    "updrs_means = updrs_means.drop(index = 5)\n",
    "updrs_stds = updrs_stds.drop(index = 5)\n",
    "print(updrs_means)\n",
    "print(updrs_stds)"
   ]
  },
  {
   "cell_type": "code",
   "execution_count": 55,
   "metadata": {},
   "outputs": [
    {
     "data": {
      "text/plain": [
       "Text(0.5, 1.0, 'updrs_4')"
      ]
     },
     "execution_count": 55,
     "metadata": {},
     "output_type": "execute_result"
    },
    {
     "data": {
      "image/png": "[encoded data removed]",
      "text/plain": [
       "<Figure size 720x720 with 4 Axes>"
      ]
     },
     "metadata": {
      "needs_background": "light"
     },
     "output_type": "display_data"
    }
   ],
   "source": [
    "fig, ax = plt.subplots(nrows = 2, ncols = 2, figsize=(10,10))\n",
    "ax[0,0].plot(updrs_means.index.values, updrs_means.updrs_1, marker='o', color='b')\n",
    "ax[0,0].fill_between(updrs_stds.index.values, updrs_means.updrs_1-updrs_stds.updrs_1,  \n",
    "                     updrs_means.updrs_1+updrs_stds.updrs_1 ,alpha=0.2, color='b')\n",
    "ax[0,0].set_xticks(updrs_stds.index.values)\n",
    "ax[0,0].set_xlabel('visit_id')\n",
    "ax[0,0].set_title('updrs_1')\n",
    "ax[0,0].set_ylim([0,12])\n",
    "\n",
    "ax[0,1].plot(updrs_means.index.values, updrs_means.updrs_2, marker='o', color='r')\n",
    "ax[0,1].fill_between(updrs_stds.index.values, updrs_means.updrs_2-updrs_stds.updrs_2,  \n",
    "                     updrs_means.updrs_2+updrs_stds.updrs_2 ,alpha=0.2, color='r')\n",
    "ax[0,1].set_xticks(updrs_stds.index.values)\n",
    "ax[0,1].set_xlabel('visit_id')\n",
    "ax[0,1].set_title('updrs_2')\n",
    "\n",
    "ax[1,0].plot(updrs_means.index.values, updrs_means.updrs_3, marker='o', color='g')\n",
    "ax[1,0].fill_between(updrs_stds.index.values, updrs_means.updrs_3-updrs_stds.updrs_3,  \n",
    "                     updrs_means.updrs_3+updrs_stds.updrs_3 ,alpha=0.2, color='g')\n",
    "ax[1,0].set_xticks(updrs_stds.index.values)\n",
    "ax[1,0].set_xlabel('visit_id')\n",
    "ax[1,0].set_title('updrs_3')\n",
    "\n",
    "ax[1,1].plot(updrs_means.index.values, updrs_means.updrs_4, marker='o', color='orange')\n",
    "ax[1,1].fill_between(updrs_stds.index.values, updrs_means.updrs_4-updrs_stds.updrs_4,  \n",
    "                     updrs_means.updrs_4+updrs_stds.updrs_4 ,alpha=0.2, color='orange')\n",
    "ax[1,1].set_xticks(updrs_stds.index.values)\n",
    "ax[1,1].set_xlabel('visit_id')\n",
    "ax[1,1].set_title('updrs_4')"
   ]
  },
  {
   "cell_type": "markdown",
   "metadata": {},
   "source": [
    "# Summary so far\n",
    "\n",
    "Lots of NaNs. visit_id 5 almost useless as it contains all NaNs for updrs_1 and updrs_2. May be able to backfill from month 6. Many patients did an initial visit but no further follow ups. The progression of updrs scores over time has a high degree of variability as indicated by the plots. No obvious steadily increasing trend (higher score indicates more sever symptoms).\n",
    "I will exclude patients that were on medication for these visits and see if this affects trends. Note that most of the medication data is NaN - does this mean 'Off' or was the data simply not recorded?"
   ]
  },
  {
   "cell_type": "code",
   "execution_count": 57,
   "metadata": {},
   "outputs": [
    {
     "name": "stdout",
     "output_type": "stream",
     "text": [
      "               patient_id   updrs_1   updrs_2    updrs_3   updrs_4\n",
      "visit_month                                                       \n",
      "0            31871.395489  5.963158  6.180702  19.592760  1.090164\n",
      "6            32473.923077  4.965812  6.119658  24.879310  2.000000\n",
      "12           32282.027027  4.675676  5.364865  25.418919  2.636364\n",
      "18           29851.488372  4.744186  7.302326  26.767442  0.769231\n",
      "24           31505.864865  4.540541  6.513514  25.378378  2.000000\n",
      "30           26564.393939  6.333333  7.424242  27.812500  1.363636\n",
      "36           33744.558140  5.627907  6.395349  27.883721  0.209302\n",
      "               patient_id   updrs_1   updrs_2    updrs_3   updrs_4\n",
      "visit_month                                                       \n",
      "0            18840.329368  4.526087  5.228082  12.529846  2.248911\n",
      "6            19670.846926  3.930280  4.575351  10.822003  2.449490\n",
      "12           20600.033488  3.653139  4.025856  10.921898  2.693426\n",
      "18           20052.628327  3.288458  4.688054  10.512662  1.535895\n",
      "24           19868.689592  3.753477  5.231431   9.420284  2.828427\n",
      "30           20891.146585  4.327721  5.315251   9.247275  1.804036\n",
      "36           19624.142205  3.909837  4.135442  13.093454  0.965060\n"
     ]
    }
   ],
   "source": [
    "non_med_data = data.loc[data.upd23b_clinical_state_on_medication != 'On',:]\n",
    "non_med_means = non_med_data.groupby('visit_month').mean()\n",
    "non_med_stds = non_med_data.groupby('visit_month').std()\n",
    "non_med_means = non_med_means.drop(index = 5)\n",
    "non_med_stds = non_med_stds.drop(index = 5)\n",
    "print(non_med_means)\n",
    "print(non_med_stds)"
   ]
  },
  {
   "cell_type": "code",
   "execution_count": 58,
   "metadata": {},
   "outputs": [
    {
     "data": {
      "text/plain": [
       "Text(0.5, 0.98, 'Non-medicated patient UPDRS scores')"
      ]
     },
     "execution_count": 58,
     "metadata": {},
     "output_type": "execute_result"
    },
    {
     "data": {
      "image/png": "[encoded data removed]",
      "text/plain": [
       "<Figure size 720x720 with 4 Axes>"
      ]
     },
     "metadata": {
      "needs_background": "light"
     },
     "output_type": "display_data"
    }
   ],
   "source": [
    "fig, ax = plt.subplots(nrows = 2, ncols = 2, figsize=(10,10))\n",
    "ax[0,0].plot(non_med_means.index.values, non_med_means.updrs_1, marker='o', color='b')\n",
    "ax[0,0].fill_between(non_med_stds.index.values, non_med_means.updrs_1-non_med_stds.updrs_1,  \n",
    "                     non_med_means.updrs_1+non_med_stds.updrs_1 ,alpha=0.2, color='b')\n",
    "ax[0,0].set_xticks(non_med_stds.index.values)\n",
    "ax[0,0].set_xlabel('visit_id')\n",
    "ax[0,0].set_title('updrs_1')\n",
    "ax[0,0].set_ylim([0,12])\n",
    "\n",
    "ax[0,1].plot(non_med_means.index.values, non_med_means.updrs_2, marker='o', color='r')\n",
    "ax[0,1].fill_between(non_med_stds.index.values, non_med_means.updrs_2-non_med_stds.updrs_2,  \n",
    "                     non_med_means.updrs_2+non_med_stds.updrs_2 ,alpha=0.2, color='r')\n",
    "ax[0,1].set_xticks(non_med_stds.index.values)\n",
    "ax[0,1].set_xlabel('visit_id')\n",
    "ax[0,1].set_title('updrs_2')\n",
    "\n",
    "ax[1,0].plot(non_med_means.index.values, non_med_means.updrs_3, marker='o', color='g')\n",
    "ax[1,0].fill_between(non_med_stds.index.values, non_med_means.updrs_3-non_med_stds.updrs_3,  \n",
    "                     non_med_means.updrs_3+non_med_stds.updrs_3 ,alpha=0.2, color='g')\n",
    "ax[1,0].set_xticks(non_med_stds.index.values)\n",
    "ax[1,0].set_xlabel('visit_id')\n",
    "ax[1,0].set_title('updrs_3')\n",
    "\n",
    "ax[1,1].plot(non_med_means.index.values, non_med_means.updrs_4, marker='o', color='orange')\n",
    "ax[1,1].fill_between(non_med_stds.index.values, non_med_means.updrs_4-non_med_stds.updrs_4,  \n",
    "                     non_med_means.updrs_4+non_med_stds.updrs_4 ,alpha=0.2, color='orange')\n",
    "ax[1,1].set_xticks(non_med_stds.index.values)\n",
    "ax[1,1].set_xlabel('visit_id')\n",
    "ax[1,1].set_title('updrs_4')\n",
    "\n",
    "fig.suptitle('Non-medicated patient UPDRS scores',fontsize=20)"
   ]
  },
  {
   "cell_type": "markdown",
   "metadata": {},
   "source": [
    "As expected, the removal of medicated subjects affected the trend of updrs3. More obvious, steadily increasing trend.\n",
    "\n",
    "Next task: plot both trendlines on top of each other."
   ]
  },
  {
   "cell_type": "code",
   "execution_count": null,
   "metadata": {},
   "outputs": [],
   "source": []
  }
 ],
 "metadata": {
  "kernelspec": {
   "display_name": "Python 3",
   "language": "python",
   "name": "python3"
  },
  "language_info": {
   "codemirror_mode": {
    "name": "ipython",
    "version": 3
   },
   "file_extension": ".py",
   "mimetype": "text/x-python",
   "name": "python",
   "nbconvert_exporter": "python",
   "pygments_lexer": "ipython3",
   "version": "3.7.6"
  }
 },
 "nbformat": 4,
 "nbformat_minor": 4
}
